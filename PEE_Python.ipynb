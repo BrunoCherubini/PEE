{
  "nbformat": 4,
  "nbformat_minor": 0,
  "metadata": {
    "kernelspec": {
      "display_name": "Python 3",
      "language": "python",
      "name": "python3"
    },
    "language_info": {
      "codemirror_mode": {
        "name": "ipython",
        "version": 3
      },
      "file_extension": ".py",
      "mimetype": "text/x-python",
      "name": "python",
      "nbconvert_exporter": "python",
      "pygments_lexer": "ipython3",
      "version": "3.6.5"
    },
    "colab": {
      "name": "PEE_Python.ipynb",
      "provenance": [],
      "include_colab_link": true
    }
  },
  "cells": [
    {
      "cell_type": "markdown",
      "metadata": {
        "id": "view-in-github",
        "colab_type": "text"
      },
      "source": [
        "<a href=\"https://colab.research.google.com/github/polivio/PEE/blob/master/PEE_Python.ipynb\" target=\"_parent\"><img src=\"https://colab.research.google.com/assets/colab-badge.svg\" alt=\"Open In Colab\"/></a>"
      ]
    },
    {
      "cell_type": "code",
      "metadata": {
        "id": "VyC_-7dU7llB",
        "colab_type": "code",
        "colab": {},
        "outputId": "fe2817b1-e9f7-47ea-8007-094b428c53b0"
      },
      "source": [
        "# KNN - Scikit \n",
        "# https://scikit-learn.org/stable/modules/generated/sklearn.neighbors.KNeighborsClassifier.html\n",
        "\n",
        "X = [[0], [1], [2], [3]]\n",
        "y = [0, 0, 1, 1]\n",
        "from sklearn.neighbors import KNeighborsClassifier\n",
        "neigh = KNeighborsClassifier(n_neighbors=3)\n",
        "neigh.fit(X, y) \n",
        "KNeighborsClassifier(...)\n",
        "print(neigh.predict([[1.1]]))\n",
        "print(neigh.predict_proba([[0.9]]))\n"
      ],
      "execution_count": 0,
      "outputs": [
        {
          "output_type": "stream",
          "text": [
            "[0]\n",
            "[[0.66666667 0.33333333]]\n"
          ],
          "name": "stdout"
        }
      ]
    },
    {
      "cell_type": "code",
      "metadata": {
        "id": "VzYg-r677llF",
        "colab_type": "code",
        "colab": {
          "base_uri": "https://localhost:8080/",
          "height": 51
        },
        "outputId": "387dc58b-c947-4f7c-8825-1ea793e8fa37"
      },
      "source": [
        "# CART\n",
        "# https://scikit-learn.org/stable/modules/generated/sklearn.tree.DecisionTreeClassifier.html\n",
        "\n",
        "\n",
        "from sklearn.datasets import load_iris\n",
        "from sklearn.model_selection import cross_val_score\n",
        "from sklearn.tree import DecisionTreeClassifier\n",
        "clf = DecisionTreeClassifier(random_state=0)\n",
        "iris = load_iris()\n",
        "cross_val_score(clf, iris.data, iris.target, cv=10)\n",
        "                             \n"
      ],
      "execution_count": 4,
      "outputs": [
        {
          "output_type": "execute_result",
          "data": {
            "text/plain": [
              "array([1.        , 0.93333333, 1.        , 0.93333333, 0.93333333,\n",
              "       0.86666667, 0.93333333, 1.        , 1.        , 1.        ])"
            ]
          },
          "metadata": {
            "tags": []
          },
          "execution_count": 4
        }
      ]
    },
    {
      "cell_type": "code",
      "metadata": {
        "id": "CUgi_9e47llH",
        "colab_type": "code",
        "colab": {
          "base_uri": "https://localhost:8080/",
          "height": 34
        },
        "outputId": "7241c5ee-54ec-4e94-8a65-97ab6e627da1"
      },
      "source": [
        "# ANN\n",
        "# https://scikit-learn.org/stable/modules/neural_networks_supervised.html\n",
        "\n",
        "from sklearn.neural_network import MLPClassifier\n",
        "X = [[0., 0.], [1., 1.]]\n",
        "y = [0, 1]\n",
        "clf = MLPClassifier(solver='lbfgs', alpha=1e-5, hidden_layer_sizes=(5, 2), random_state=1)\n",
        "\n",
        "clf.fit(X, y)                         \n",
        "MLPClassifier(activation='relu', alpha=1e-05, batch_size='auto',\n",
        "              beta_1=0.9, beta_2=0.999, early_stopping=False,\n",
        "              epsilon=1e-08, hidden_layer_sizes=(5, 2),\n",
        "              learning_rate='constant', learning_rate_init=0.001,\n",
        "              max_iter=200, momentum=0.9, n_iter_no_change=10,\n",
        "              nesterovs_momentum=True, power_t=0.5, random_state=1,\n",
        "              shuffle=True, solver='lbfgs', tol=0.0001,\n",
        "              validation_fraction=0.1, verbose=False, warm_start=False)\n",
        "\n",
        "\n",
        "clf.predict([[2., 2.], [-1., -2.]])\n",
        "# [coef.shape for coef in clf.coefs_]"
      ],
      "execution_count": 5,
      "outputs": [
        {
          "output_type": "execute_result",
          "data": {
            "text/plain": [
              "array([1, 0])"
            ]
          },
          "metadata": {
            "tags": []
          },
          "execution_count": 5
        }
      ]
    },
    {
      "cell_type": "code",
      "metadata": {
        "id": "jYa6I8aO7llJ",
        "colab_type": "code",
        "colab": {
          "base_uri": "https://localhost:8080/",
          "height": 34
        },
        "outputId": "fc669b06-966b-493b-bf13-a9b4ff595550"
      },
      "source": [
        "# Naive Bayes \n",
        "# https://scikit-learn.org/stable/modules/naive_bayes.html\n",
        "from sklearn import datasets\n",
        "iris = datasets.load_iris()\n",
        "from sklearn.naive_bayes import GaussianNB\n",
        "gnb = GaussianNB()\n",
        "y_pred = gnb.fit(iris.data, iris.target).predict(iris.data)\n",
        "print(\"Number of mislabeled points out of a total %d points : %d\" % (iris.data.shape[0],(iris.target != y_pred).sum()))\n"
      ],
      "execution_count": 13,
      "outputs": [
        {
          "output_type": "stream",
          "text": [
            "Number of mislabeled points out of a total 150 points : 6\n"
          ],
          "name": "stdout"
        }
      ]
    },
    {
      "cell_type": "code",
      "metadata": {
        "id": "frdhwdbq7llL",
        "colab_type": "code",
        "colab": {
          "base_uri": "https://localhost:8080/",
          "height": 34
        },
        "outputId": "fc707060-6de2-4765-b099-2afdfefcae68"
      },
      "source": [
        "# Linear Regression\n",
        "# https://scikit-learn.org/stable/modules/generated/sklearn.linear_model.LinearRegression.html\n",
        "import numpy as np\n",
        "from sklearn.linear_model import LinearRegression\n",
        "X = np.array([[1, 1], [1, 2], [2, 2], [2, 3]])\n",
        "# y = 1 * x_0 + 2 * x_1 + 3\n",
        "y = np.dot(X, np.array([1, 2])) + 3\n",
        "reg = LinearRegression().fit(X, y)\n",
        "reg.score(X, y)\n",
        "# 1.0\n",
        "reg.coef_\n",
        "#array([1., 2.])\n",
        "reg.intercept_ \n",
        "#3.0000...\n",
        "reg.predict(np.array([[3, 5]]))\n",
        "#array([16.])\n"
      ],
      "execution_count": 14,
      "outputs": [
        {
          "output_type": "execute_result",
          "data": {
            "text/plain": [
              "array([16.])"
            ]
          },
          "metadata": {
            "tags": []
          },
          "execution_count": 14
        }
      ]
    },
    {
      "cell_type": "code",
      "metadata": {
        "id": "_0nwNEGF7llN",
        "colab_type": "code",
        "colab": {
          "base_uri": "https://localhost:8080/",
          "height": 34
        },
        "outputId": "832a34b7-0217-417d-c6bc-3b1656a57f99"
      },
      "source": [
        "# SVM\n",
        "# https://scikit-learn.org/stable/modules/svm.html\n",
        "from sklearn import svm\n",
        "X = [[0, 0], [1, 1]]\n",
        "y = [0, 1]\n",
        "clf = svm.SVC(gamma='scale')\n",
        "clf.fit(X, y)  \n",
        "\n",
        "#SVC(C=1.0, cache_size=200, class_weight=None, coef0=0.0,\n",
        " #   decision_function_shape='ovr', degree=3, gamma='scale', kernel='rbf',\n",
        "  #  max_iter=-1, probability=False, random_state=None, shrinking=True,\n",
        "   # tol=0.001, verbose=False)\n",
        "clf.predict([[2., 2.]])\n",
        "#array([1])"
      ],
      "execution_count": 15,
      "outputs": [
        {
          "output_type": "execute_result",
          "data": {
            "text/plain": [
              "array([1])"
            ]
          },
          "metadata": {
            "tags": []
          },
          "execution_count": 15
        }
      ]
    }
  ]
}