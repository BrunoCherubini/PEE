{
  "nbformat": 4,
  "nbformat_minor": 0,
  "metadata": {
    "kernelspec": {
      "display_name": "Python 3",
      "language": "python",
      "name": "python3"
    },
    "language_info": {
      "codemirror_mode": {
        "name": "ipython",
        "version": 3
      },
      "file_extension": ".py",
      "mimetype": "text/x-python",
      "name": "python",
      "nbconvert_exporter": "python",
      "pygments_lexer": "ipython3",
      "version": "3.7.3"
    },
    "colab": {
      "name": "KNN_example.ipynb",
      "provenance": [],
      "include_colab_link": true
    }
  },
  "cells": [
    {
      "cell_type": "markdown",
      "metadata": {
        "id": "view-in-github",
        "colab_type": "text"
      },
      "source": [
        "<a href=\"https://colab.research.google.com/github/polivio/PEE/blob/master/KNN_KDD_BR.ipynb\" target=\"_parent\"><img src=\"https://colab.research.google.com/assets/colab-badge.svg\" alt=\"Open In Colab\"/></a>"
      ]
    },
    {
      "cell_type": "code",
      "metadata": {
        "id": "-cEOVgL9jy0C",
        "colab_type": "code",
        "colab": {}
      },
      "source": [
        "# https://www.kaggle.com/c/kddbr-2019/data\n",
        "\n",
        "# KNN KDD BR -Polivio\n",
        "import numpy as np\n",
        "from sklearn import preprocessing, neighbors\n",
        "import pandas as pd\n",
        "from sklearn.imput import SimpleImputer\n",
        "from sklearn.model_selection import train_test_split\n",
        "\n",
        "\n"
      ],
      "execution_count": 0,
      "outputs": []
    },
    {
      "cell_type": "code",
      "metadata": {
        "id": "FyyXDD24jy0H",
        "colab_type": "code",
        "outputId": "30d28eee-43db-4be4-f813-a9b11405b4ad",
        "colab": {
          "base_uri": "https://localhost:8080/",
          "height": 317
        }
      },
      "source": [
        "# preprocessing # blob # raw\n",
        "train = pd.read_csv('https://github.com/polivio/PEE/raw/master/Training_grouped.csv')\n",
        "test = pd.read_csv('https://github.com/polivio/PEE/raw/master/Test_grouped.csv')\n",
        "\n",
        "#df.replace('?', -99999, inplace= True)\n",
        "#df.drop(['id'] ,1, inplace= True)\n",
        "\n",
        "train.head()\n"
      ],
      "execution_count": 0,
      "outputs": [
        {
          "output_type": "execute_result",
          "data": {
            "text/html": [
              "<div>\n",
              "<style scoped>\n",
              "    .dataframe tbody tr th:only-of-type {\n",
              "        vertical-align: middle;\n",
              "    }\n",
              "\n",
              "    .dataframe tbody tr th {\n",
              "        vertical-align: top;\n",
              "    }\n",
              "\n",
              "    .dataframe thead th {\n",
              "        text-align: right;\n",
              "    }\n",
              "</style>\n",
              "<table border=\"1\" class=\"dataframe\">\n",
              "  <thead>\n",
              "    <tr style=\"text-align: right;\">\n",
              "      <th></th>\n",
              "      <th>Unnamed: 0</th>\n",
              "      <th>traininglabelorder.scatterplotID</th>\n",
              "      <th>qtde.ponto</th>\n",
              "      <th>Negative</th>\n",
              "      <th>Sample</th>\n",
              "      <th>mean.signalX</th>\n",
              "      <th>sd.signalX</th>\n",
              "      <th>var.signalX</th>\n",
              "      <th>kurtosis.signalX</th>\n",
              "      <th>skew.signalX</th>\n",
              "      <th>mean.signalY</th>\n",
              "      <th>sd.signalY</th>\n",
              "      <th>var.signalY</th>\n",
              "      <th>kurtosis.signalY</th>\n",
              "      <th>skew.signalY</th>\n",
              "      <th>L</th>\n",
              "      <th>X</th>\n",
              "      <th>XY</th>\n",
              "      <th>Y</th>\n",
              "      <th>mean.silhouette</th>\n",
              "      <th>traininglabelorder.score</th>\n",
              "    </tr>\n",
              "  </thead>\n",
              "  <tbody>\n",
              "    <tr>\n",
              "      <th>count</th>\n",
              "      <td>80000.000000</td>\n",
              "      <td>80000.000000</td>\n",
              "      <td>80000.000000</td>\n",
              "      <td>80000.000000</td>\n",
              "      <td>80000.000000</td>\n",
              "      <td>80000.000000</td>\n",
              "      <td>80000.000000</td>\n",
              "      <td>8.000000e+04</td>\n",
              "      <td>80000.000000</td>\n",
              "      <td>80000.000000</td>\n",
              "      <td>80000.000000</td>\n",
              "      <td>80000.000000</td>\n",
              "      <td>8.000000e+04</td>\n",
              "      <td>80000.000000</td>\n",
              "      <td>80000.000000</td>\n",
              "      <td>80000.000000</td>\n",
              "      <td>75408.000000</td>\n",
              "      <td>60537.000000</td>\n",
              "      <td>76289.000000</td>\n",
              "      <td>80000.000000</td>\n",
              "      <td>8.000000e+04</td>\n",
              "    </tr>\n",
              "    <tr>\n",
              "      <th>mean</th>\n",
              "      <td>71577.124537</td>\n",
              "      <td>71577.124537</td>\n",
              "      <td>345.792438</td>\n",
              "      <td>3.756838</td>\n",
              "      <td>342.035600</td>\n",
              "      <td>1819.568818</td>\n",
              "      <td>819.694405</td>\n",
              "      <td>9.427996e+05</td>\n",
              "      <td>7.638787</td>\n",
              "      <td>0.635491</td>\n",
              "      <td>2093.138982</td>\n",
              "      <td>754.266702</td>\n",
              "      <td>8.015261e+05</td>\n",
              "      <td>6.231616</td>\n",
              "      <td>0.352044</td>\n",
              "      <td>5.400188</td>\n",
              "      <td>144.019481</td>\n",
              "      <td>80.421065</td>\n",
              "      <td>150.778081</td>\n",
              "      <td>0.914727</td>\n",
              "      <td>6.814087e-01</td>\n",
              "    </tr>\n",
              "    <tr>\n",
              "      <th>std</th>\n",
              "      <td>41162.632999</td>\n",
              "      <td>41162.632999</td>\n",
              "      <td>73.119538</td>\n",
              "      <td>0.650242</td>\n",
              "      <td>72.517777</td>\n",
              "      <td>1168.887171</td>\n",
              "      <td>520.484416</td>\n",
              "      <td>1.223299e+06</td>\n",
              "      <td>15.613581</td>\n",
              "      <td>1.960558</td>\n",
              "      <td>1199.553676</td>\n",
              "      <td>482.297331</td>\n",
              "      <td>1.053306e+06</td>\n",
              "      <td>11.691622</td>\n",
              "      <td>1.609881</td>\n",
              "      <td>6.436191</td>\n",
              "      <td>113.966281</td>\n",
              "      <td>88.911055</td>\n",
              "      <td>114.648603</td>\n",
              "      <td>0.081923</td>\n",
              "      <td>3.364197e-01</td>\n",
              "    </tr>\n",
              "    <tr>\n",
              "      <th>min</th>\n",
              "      <td>2.000000</td>\n",
              "      <td>2.000000</td>\n",
              "      <td>8.000000</td>\n",
              "      <td>1.000000</td>\n",
              "      <td>7.000000</td>\n",
              "      <td>-421.908800</td>\n",
              "      <td>4.372317</td>\n",
              "      <td>1.911716e+01</td>\n",
              "      <td>1.042347</td>\n",
              "      <td>-5.279428</td>\n",
              "      <td>-1035.985000</td>\n",
              "      <td>16.460560</td>\n",
              "      <td>2.709500e+02</td>\n",
              "      <td>1.081473</td>\n",
              "      <td>-5.142821</td>\n",
              "      <td>1.000000</td>\n",
              "      <td>1.000000</td>\n",
              "      <td>1.000000</td>\n",
              "      <td>1.000000</td>\n",
              "      <td>-0.535732</td>\n",
              "      <td>2.789468e-10</td>\n",
              "    </tr>\n",
              "    <tr>\n",
              "      <th>25%</th>\n",
              "      <td>35996.750000</td>\n",
              "      <td>35996.750000</td>\n",
              "      <td>350.000000</td>\n",
              "      <td>4.000000</td>\n",
              "      <td>346.000000</td>\n",
              "      <td>941.740350</td>\n",
              "      <td>432.340259</td>\n",
              "      <td>1.869181e+05</td>\n",
              "      <td>1.991511</td>\n",
              "      <td>-0.363956</td>\n",
              "      <td>1202.214750</td>\n",
              "      <td>391.758454</td>\n",
              "      <td>1.534747e+05</td>\n",
              "      <td>2.125688</td>\n",
              "      <td>-0.445447</td>\n",
              "      <td>4.000000</td>\n",
              "      <td>47.000000</td>\n",
              "      <td>8.000000</td>\n",
              "      <td>58.000000</td>\n",
              "      <td>0.904019</td>\n",
              "      <td>4.748332e-01</td>\n",
              "    </tr>\n",
              "    <tr>\n",
              "      <th>50%</th>\n",
              "      <td>71724.000000</td>\n",
              "      <td>71724.000000</td>\n",
              "      <td>383.000000</td>\n",
              "      <td>4.000000</td>\n",
              "      <td>379.000000</td>\n",
              "      <td>1580.674000</td>\n",
              "      <td>706.251950</td>\n",
              "      <td>4.987918e+05</td>\n",
              "      <td>2.999759</td>\n",
              "      <td>0.194613</td>\n",
              "      <td>1922.966000</td>\n",
              "      <td>647.779850</td>\n",
              "      <td>4.196188e+05</td>\n",
              "      <td>3.114370</td>\n",
              "      <td>0.130833</td>\n",
              "      <td>4.000000</td>\n",
              "      <td>124.000000</td>\n",
              "      <td>44.000000</td>\n",
              "      <td>132.000000</td>\n",
              "      <td>0.940557</td>\n",
              "      <td>7.951960e-01</td>\n",
              "    </tr>\n",
              "    <tr>\n",
              "      <th>75%</th>\n",
              "      <td>107072.250000</td>\n",
              "      <td>107072.250000</td>\n",
              "      <td>384.000000</td>\n",
              "      <td>4.000000</td>\n",
              "      <td>380.000000</td>\n",
              "      <td>2472.206250</td>\n",
              "      <td>1109.487000</td>\n",
              "      <td>1.230961e+06</td>\n",
              "      <td>5.660611</td>\n",
              "      <td>0.919154</td>\n",
              "      <td>2812.463868</td>\n",
              "      <td>1010.636329</td>\n",
              "      <td>1.021386e+06</td>\n",
              "      <td>5.604940</td>\n",
              "      <td>0.740647</td>\n",
              "      <td>5.000000</td>\n",
              "      <td>213.000000</td>\n",
              "      <td>136.000000</td>\n",
              "      <td>222.000000</td>\n",
              "      <td>0.957141</td>\n",
              "      <td>9.443186e-01</td>\n",
              "    </tr>\n",
              "    <tr>\n",
              "      <th>max</th>\n",
              "      <td>142761.000000</td>\n",
              "      <td>142761.000000</td>\n",
              "      <td>384.000000</td>\n",
              "      <td>4.000000</td>\n",
              "      <td>380.000000</td>\n",
              "      <td>9582.372000</td>\n",
              "      <td>4673.495000</td>\n",
              "      <td>2.184155e+07</td>\n",
              "      <td>363.022200</td>\n",
              "      <td>18.948910</td>\n",
              "      <td>10051.170000</td>\n",
              "      <td>5071.337283</td>\n",
              "      <td>2.571846e+07</td>\n",
              "      <td>372.718800</td>\n",
              "      <td>19.200780</td>\n",
              "      <td>192.000000</td>\n",
              "      <td>380.000000</td>\n",
              "      <td>380.000000</td>\n",
              "      <td>380.000000</td>\n",
              "      <td>0.976064</td>\n",
              "      <td>1.000000e+00</td>\n",
              "    </tr>\n",
              "  </tbody>\n",
              "</table>\n",
              "</div>"
            ],
            "text/plain": [
              "          Unnamed: 0  ...  traininglabelorder.score\n",
              "count   80000.000000  ...              8.000000e+04\n",
              "mean    71577.124537  ...              6.814087e-01\n",
              "std     41162.632999  ...              3.364197e-01\n",
              "min         2.000000  ...              2.789468e-10\n",
              "25%     35996.750000  ...              4.748332e-01\n",
              "50%     71724.000000  ...              7.951960e-01\n",
              "75%    107072.250000  ...              9.443186e-01\n",
              "max    142761.000000  ...              1.000000e+00\n",
              "\n",
              "[8 rows x 21 columns]"
            ]
          },
          "metadata": {
            "tags": []
          },
          "execution_count": 6
        }
      ]
    },
    {
      "cell_type": "code",
      "metadata": {
        "id": "rYvlQmN6kH9x",
        "colab_type": "code",
        "outputId": "54377bcd-3b4a-4c99-a7e0-3cd39936aecb",
        "colab": {
          "base_uri": "https://localhost:8080/",
          "height": 119
        }
      },
      "source": [
        "train.columns\n"
      ],
      "execution_count": 0,
      "outputs": [
        {
          "output_type": "execute_result",
          "data": {
            "text/plain": [
              "Index(['Unnamed: 0', 'traininglabelorder.scatterplotID', 'qtde.ponto',\n",
              "       'Negative', 'Sample', 'mean.signalX', 'sd.signalX', 'var.signalX',\n",
              "       'kurtosis.signalX', 'skew.signalX', 'mean.signalY', 'sd.signalY',\n",
              "       'var.signalY', 'kurtosis.signalY', 'skew.signalY', 'L', 'X', 'XY', 'Y',\n",
              "       'mean.silhouette', 'traininglabelorder.score'],\n",
              "      dtype='object')"
            ]
          },
          "metadata": {
            "tags": []
          },
          "execution_count": 8
        }
      ]
    },
    {
      "cell_type": "code",
      "metadata": {
        "id": "eAPf1EwfNgg_",
        "colab_type": "code",
        "colab": {
          "base_uri": "https://localhost:8080/",
          "height": 204
        },
        "outputId": "967a6dae-7d94-4ded-9a62-658b31e4090d"
      },
      "source": [
        "t = train.loc[:,['traininglabelorder.scatterplotID', 'qtde.ponto',\n",
        "       'Negative', 'Sample', 'sd.signalX', 'sd.signalY',\n",
        "       'L', 'X', 'XY', 'Y','mean.silhouette']]\n",
        "t.head()"
      ],
      "execution_count": 13,
      "outputs": [
        {
          "output_type": "execute_result",
          "data": {
            "text/html": [
              "<div>\n",
              "<style scoped>\n",
              "    .dataframe tbody tr th:only-of-type {\n",
              "        vertical-align: middle;\n",
              "    }\n",
              "\n",
              "    .dataframe tbody tr th {\n",
              "        vertical-align: top;\n",
              "    }\n",
              "\n",
              "    .dataframe thead th {\n",
              "        text-align: right;\n",
              "    }\n",
              "</style>\n",
              "<table border=\"1\" class=\"dataframe\">\n",
              "  <thead>\n",
              "    <tr style=\"text-align: right;\">\n",
              "      <th></th>\n",
              "      <th>traininglabelorder.scatterplotID</th>\n",
              "      <th>qtde.ponto</th>\n",
              "      <th>Negative</th>\n",
              "      <th>Sample</th>\n",
              "      <th>sd.signalX</th>\n",
              "      <th>sd.signalY</th>\n",
              "      <th>L</th>\n",
              "      <th>X</th>\n",
              "      <th>XY</th>\n",
              "      <th>Y</th>\n",
              "      <th>mean.silhouette</th>\n",
              "    </tr>\n",
              "  </thead>\n",
              "  <tbody>\n",
              "    <tr>\n",
              "      <th>0</th>\n",
              "      <td>2</td>\n",
              "      <td>365</td>\n",
              "      <td>4</td>\n",
              "      <td>361</td>\n",
              "      <td>804.757625</td>\n",
              "      <td>568.651580</td>\n",
              "      <td>4</td>\n",
              "      <td>92.0</td>\n",
              "      <td>269.0</td>\n",
              "      <td>NaN</td>\n",
              "      <td>0.840146</td>\n",
              "    </tr>\n",
              "    <tr>\n",
              "      <th>1</th>\n",
              "      <td>3</td>\n",
              "      <td>384</td>\n",
              "      <td>4</td>\n",
              "      <td>380</td>\n",
              "      <td>944.798845</td>\n",
              "      <td>1716.790542</td>\n",
              "      <td>4</td>\n",
              "      <td>82.0</td>\n",
              "      <td>49.0</td>\n",
              "      <td>249.0</td>\n",
              "      <td>0.964427</td>\n",
              "    </tr>\n",
              "    <tr>\n",
              "      <th>2</th>\n",
              "      <td>5</td>\n",
              "      <td>373</td>\n",
              "      <td>4</td>\n",
              "      <td>369</td>\n",
              "      <td>866.460225</td>\n",
              "      <td>950.478945</td>\n",
              "      <td>4</td>\n",
              "      <td>156.0</td>\n",
              "      <td>7.0</td>\n",
              "      <td>206.0</td>\n",
              "      <td>0.936210</td>\n",
              "    </tr>\n",
              "    <tr>\n",
              "      <th>3</th>\n",
              "      <td>6</td>\n",
              "      <td>384</td>\n",
              "      <td>4</td>\n",
              "      <td>380</td>\n",
              "      <td>1808.877599</td>\n",
              "      <td>1219.231193</td>\n",
              "      <td>4</td>\n",
              "      <td>100.0</td>\n",
              "      <td>190.0</td>\n",
              "      <td>90.0</td>\n",
              "      <td>0.896070</td>\n",
              "    </tr>\n",
              "    <tr>\n",
              "      <th>4</th>\n",
              "      <td>9</td>\n",
              "      <td>383</td>\n",
              "      <td>4</td>\n",
              "      <td>379</td>\n",
              "      <td>938.232021</td>\n",
              "      <td>1515.205489</td>\n",
              "      <td>4</td>\n",
              "      <td>176.0</td>\n",
              "      <td>2.0</td>\n",
              "      <td>201.0</td>\n",
              "      <td>0.952810</td>\n",
              "    </tr>\n",
              "  </tbody>\n",
              "</table>\n",
              "</div>"
            ],
            "text/plain": [
              "   traininglabelorder.scatterplotID  qtde.ponto  ...      Y  mean.silhouette\n",
              "0                                 2         365  ...    NaN         0.840146\n",
              "1                                 3         384  ...  249.0         0.964427\n",
              "2                                 5         373  ...  206.0         0.936210\n",
              "3                                 6         384  ...   90.0         0.896070\n",
              "4                                 9         383  ...  201.0         0.952810\n",
              "\n",
              "[5 rows x 11 columns]"
            ]
          },
          "metadata": {
            "tags": []
          },
          "execution_count": 13
        }
      ]
    },
    {
      "cell_type": "code",
      "metadata": {
        "id": "fJmMAj8aN-bh",
        "colab_type": "code",
        "colab": {
          "base_uri": "https://localhost:8080/",
          "height": 307
        },
        "outputId": "7eb6bb91-1d89-4a52-9e50-a1f58ed32976"
      },
      "source": [
        "t.fillna(method='mean')"
      ],
      "execution_count": 14,
      "outputs": [
        {
          "output_type": "error",
          "ename": "ValueError",
          "evalue": "ignored",
          "traceback": [
            "\u001b[0;31m---------------------------------------------------------------------------\u001b[0m",
            "\u001b[0;31mValueError\u001b[0m                                Traceback (most recent call last)",
            "\u001b[0;32m<ipython-input-14-86e70bcfeb64>\u001b[0m in \u001b[0;36m<module>\u001b[0;34m()\u001b[0m\n\u001b[0;32m----> 1\u001b[0;31m \u001b[0mt\u001b[0m\u001b[0;34m.\u001b[0m\u001b[0mfillna\u001b[0m\u001b[0;34m(\u001b[0m\u001b[0mmethod\u001b[0m\u001b[0;34m=\u001b[0m\u001b[0;34m'mean'\u001b[0m\u001b[0;34m)\u001b[0m\u001b[0;34m\u001b[0m\u001b[0;34m\u001b[0m\u001b[0m\n\u001b[0m",
            "\u001b[0;32m/usr/local/lib/python3.6/dist-packages/pandas/core/frame.py\u001b[0m in \u001b[0;36mfillna\u001b[0;34m(self, value, method, axis, inplace, limit, downcast, **kwargs)\u001b[0m\n\u001b[1;32m   4032\u001b[0m                      \u001b[0mself\u001b[0m\u001b[0;34m)\u001b[0m\u001b[0;34m.\u001b[0m\u001b[0mfillna\u001b[0m\u001b[0;34m(\u001b[0m\u001b[0mvalue\u001b[0m\u001b[0;34m=\u001b[0m\u001b[0mvalue\u001b[0m\u001b[0;34m,\u001b[0m \u001b[0mmethod\u001b[0m\u001b[0;34m=\u001b[0m\u001b[0mmethod\u001b[0m\u001b[0;34m,\u001b[0m \u001b[0maxis\u001b[0m\u001b[0;34m=\u001b[0m\u001b[0maxis\u001b[0m\u001b[0;34m,\u001b[0m\u001b[0;34m\u001b[0m\u001b[0;34m\u001b[0m\u001b[0m\n\u001b[1;32m   4033\u001b[0m                                   \u001b[0minplace\u001b[0m\u001b[0;34m=\u001b[0m\u001b[0minplace\u001b[0m\u001b[0;34m,\u001b[0m \u001b[0mlimit\u001b[0m\u001b[0;34m=\u001b[0m\u001b[0mlimit\u001b[0m\u001b[0;34m,\u001b[0m\u001b[0;34m\u001b[0m\u001b[0;34m\u001b[0m\u001b[0m\n\u001b[0;32m-> 4034\u001b[0;31m                                   downcast=downcast, **kwargs)\n\u001b[0m\u001b[1;32m   4035\u001b[0m \u001b[0;34m\u001b[0m\u001b[0m\n\u001b[1;32m   4036\u001b[0m     \u001b[0;34m@\u001b[0m\u001b[0mAppender\u001b[0m\u001b[0;34m(\u001b[0m\u001b[0m_shared_docs\u001b[0m\u001b[0;34m[\u001b[0m\u001b[0;34m'replace'\u001b[0m\u001b[0;34m]\u001b[0m \u001b[0;34m%\u001b[0m \u001b[0m_shared_doc_kwargs\u001b[0m\u001b[0;34m)\u001b[0m\u001b[0;34m\u001b[0m\u001b[0;34m\u001b[0m\u001b[0m\n",
            "\u001b[0;32m/usr/local/lib/python3.6/dist-packages/pandas/core/generic.py\u001b[0m in \u001b[0;36mfillna\u001b[0;34m(self, value, method, axis, inplace, limit, downcast)\u001b[0m\n\u001b[1;32m   6042\u001b[0m         \"\"\"\n\u001b[1;32m   6043\u001b[0m         \u001b[0minplace\u001b[0m \u001b[0;34m=\u001b[0m \u001b[0mvalidate_bool_kwarg\u001b[0m\u001b[0;34m(\u001b[0m\u001b[0minplace\u001b[0m\u001b[0;34m,\u001b[0m \u001b[0;34m'inplace'\u001b[0m\u001b[0;34m)\u001b[0m\u001b[0;34m\u001b[0m\u001b[0;34m\u001b[0m\u001b[0m\n\u001b[0;32m-> 6044\u001b[0;31m         \u001b[0mvalue\u001b[0m\u001b[0;34m,\u001b[0m \u001b[0mmethod\u001b[0m \u001b[0;34m=\u001b[0m \u001b[0mvalidate_fillna_kwargs\u001b[0m\u001b[0;34m(\u001b[0m\u001b[0mvalue\u001b[0m\u001b[0;34m,\u001b[0m \u001b[0mmethod\u001b[0m\u001b[0;34m)\u001b[0m\u001b[0;34m\u001b[0m\u001b[0;34m\u001b[0m\u001b[0m\n\u001b[0m\u001b[1;32m   6045\u001b[0m \u001b[0;34m\u001b[0m\u001b[0m\n\u001b[1;32m   6046\u001b[0m         \u001b[0mself\u001b[0m\u001b[0;34m.\u001b[0m\u001b[0m_consolidate_inplace\u001b[0m\u001b[0;34m(\u001b[0m\u001b[0;34m)\u001b[0m\u001b[0;34m\u001b[0m\u001b[0;34m\u001b[0m\u001b[0m\n",
            "\u001b[0;32m/usr/local/lib/python3.6/dist-packages/pandas/util/_validators.py\u001b[0m in \u001b[0;36mvalidate_fillna_kwargs\u001b[0;34m(value, method, validate_scalar_dict_value)\u001b[0m\n\u001b[1;32m    346\u001b[0m         \u001b[0;32mraise\u001b[0m \u001b[0mValueError\u001b[0m\u001b[0;34m(\u001b[0m\u001b[0;34m\"Must specify a fill 'value' or 'method'.\"\u001b[0m\u001b[0;34m)\u001b[0m\u001b[0;34m\u001b[0m\u001b[0;34m\u001b[0m\u001b[0m\n\u001b[1;32m    347\u001b[0m     \u001b[0;32melif\u001b[0m \u001b[0mvalue\u001b[0m \u001b[0;32mis\u001b[0m \u001b[0;32mNone\u001b[0m \u001b[0;32mand\u001b[0m \u001b[0mmethod\u001b[0m \u001b[0;32mis\u001b[0m \u001b[0;32mnot\u001b[0m \u001b[0;32mNone\u001b[0m\u001b[0;34m:\u001b[0m\u001b[0;34m\u001b[0m\u001b[0;34m\u001b[0m\u001b[0m\n\u001b[0;32m--> 348\u001b[0;31m         \u001b[0mmethod\u001b[0m \u001b[0;34m=\u001b[0m \u001b[0mclean_fill_method\u001b[0m\u001b[0;34m(\u001b[0m\u001b[0mmethod\u001b[0m\u001b[0;34m)\u001b[0m\u001b[0;34m\u001b[0m\u001b[0;34m\u001b[0m\u001b[0m\n\u001b[0m\u001b[1;32m    349\u001b[0m \u001b[0;34m\u001b[0m\u001b[0m\n\u001b[1;32m    350\u001b[0m     \u001b[0;32melif\u001b[0m \u001b[0mvalue\u001b[0m \u001b[0;32mis\u001b[0m \u001b[0;32mnot\u001b[0m \u001b[0;32mNone\u001b[0m \u001b[0;32mand\u001b[0m \u001b[0mmethod\u001b[0m \u001b[0;32mis\u001b[0m \u001b[0;32mNone\u001b[0m\u001b[0;34m:\u001b[0m\u001b[0;34m\u001b[0m\u001b[0;34m\u001b[0m\u001b[0m\n",
            "\u001b[0;32m/usr/local/lib/python3.6/dist-packages/pandas/core/missing.py\u001b[0m in \u001b[0;36mclean_fill_method\u001b[0;34m(method, allow_nearest)\u001b[0m\n\u001b[1;32m     89\u001b[0m         msg = ('Invalid fill method. Expecting {expecting}. Got {method}'\n\u001b[1;32m     90\u001b[0m                .format(expecting=expecting, method=method))\n\u001b[0;32m---> 91\u001b[0;31m         \u001b[0;32mraise\u001b[0m \u001b[0mValueError\u001b[0m\u001b[0;34m(\u001b[0m\u001b[0mmsg\u001b[0m\u001b[0;34m)\u001b[0m\u001b[0;34m\u001b[0m\u001b[0;34m\u001b[0m\u001b[0m\n\u001b[0m\u001b[1;32m     92\u001b[0m     \u001b[0;32mreturn\u001b[0m \u001b[0mmethod\u001b[0m\u001b[0;34m\u001b[0m\u001b[0;34m\u001b[0m\u001b[0m\n\u001b[1;32m     93\u001b[0m \u001b[0;34m\u001b[0m\u001b[0m\n",
            "\u001b[0;31mValueError\u001b[0m: Invalid fill method. Expecting pad (ffill) or backfill (bfill). Got mean"
          ]
        }
      ]
    },
    {
      "cell_type": "code",
      "metadata": {
        "id": "zvqNyQJZjy0L",
        "colab_type": "code",
        "colab": {}
      },
      "source": [
        "# X = features ; y = lable\n",
        "X = np.array(df.drop(['class'], 1))\n",
        "y = np.array(df['class'])\n",
        "\n",
        "X_train, X_test, y_train, y_test = train_test_split(X, y, test_size=0.2, random_state=0)\n",
        "\n"
      ],
      "execution_count": 0,
      "outputs": []
    },
    {
      "cell_type": "code",
      "metadata": {
        "id": "1QXF4OsNjy0N",
        "colab_type": "code",
        "outputId": "dae1f2b7-a9e5-48a3-804c-071504f1ac4d",
        "colab": {
          "base_uri": "https://localhost:8080/",
          "height": 34
        }
      },
      "source": [
        "# classsifiers KNN\n",
        "\n",
        "clf = neighbors.KNeighborsClassifier(n_neighbors=8)\n",
        "clf.fit(X_train , y_train)\n",
        "\n",
        "accuracy = clf.score(X_test, y_test)\n",
        "\n",
        "print(accuracy)"
      ],
      "execution_count": 0,
      "outputs": [
        {
          "output_type": "stream",
          "text": [
            "0.9857142857142858\n"
          ],
          "name": "stdout"
        }
      ]
    },
    {
      "cell_type": "code",
      "metadata": {
        "id": "C1XbGzPBjy0Q",
        "colab_type": "code",
        "outputId": "92e5e3dc-cd7f-4952-cf34-67dfc2498544",
        "colab": {
          "base_uri": "https://localhost:8080/",
          "height": 34
        }
      },
      "source": [
        "#example_measures = np.array([4,2,1,1,1,2,3,2,1]) \n",
        "\n",
        "example_measures = np.array([[4,2,1,1,1,2,3,2,1], [4,2,1,2,2,2,3,2,1]])\n",
        "example_measures = example_measures.reshape(len(example_measures),-1) \n",
        "prediction = clf.predict(example_measures)\n",
        "print(prediction)\n",
        "\n",
        "# class 2 = ben 2 4 = maligno"
      ],
      "execution_count": 0,
      "outputs": [
        {
          "output_type": "stream",
          "text": [
            "[2 2]\n"
          ],
          "name": "stdout"
        }
      ]
    },
    {
      "cell_type": "code",
      "metadata": {
        "id": "30331n05jy0S",
        "colab_type": "code",
        "colab": {}
      },
      "source": [
        ""
      ],
      "execution_count": 0,
      "outputs": []
    }
  ]
}